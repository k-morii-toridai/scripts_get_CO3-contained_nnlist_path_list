{
 "cells": [
  {
   "cell_type": "code",
   "execution_count": 1,
   "id": "62d0e32c-6880-4f6a-873f-0d275102cb9a",
   "metadata": {
    "tags": []
   },
   "outputs": [],
   "source": [
    "%load_ext autoreload\n",
    "%autoreload 2"
   ]
  },
  {
   "cell_type": "code",
   "execution_count": 24,
   "id": "c3e847b9-bd5e-4683-b4c2-87587cf4a724",
   "metadata": {
    "tags": []
   },
   "outputs": [],
   "source": [
    "import os\n",
    "import re\n",
    "import sys\n",
    "import itertools\n",
    "from pathlib import Path\n",
    "from multiprocessing import Pool, cpu_count\n",
    "\n",
    "from tqdm import tqdm\n",
    "import numpy as np\n",
    "\n",
    "from my_package.textfile2df import nnlist2df"
   ]
  },
  {
   "cell_type": "code",
   "execution_count": 12,
   "id": "387f6c1b-2b70-46d0-a2f6-81b302fd6090",
   "metadata": {
    "tags": []
   },
   "outputs": [],
   "source": [
    "def bool_CO3_contained_poscar(POSCAR_nnlist):\n",
    "    df_nnlist = nnlist2df(str(POSCAR_nnlist))\n",
    "    \n",
    "    # df_nnlistでcentral speciesがCのものに絞る\n",
    "    df_nnlist_central_species_C = df_nnlist[df_nnlist['central species'] == 'C']\n",
    "    \n",
    "    # さらに，炭酸イオンかどうかを判定するためにに，あるcentral atomのneighboring speciesがCとO３つの計４つでできているか確認したい\n",
    "    # central atomの値を入力すれば，neighboring speciesのリストを返す関数get_neighboring_species_list()を作成\n",
    "    def get_neighboring_species_list(central_atom_id, df=df_nnlist_central_species_C):\n",
    "            \"\"\"\n",
    "            To get all central atoms of a cluster(:neighbors), Input a number of cluster center element number(:central atom)\n",
    "\n",
    "            Input: central atom column element In df_nnlist\n",
    "         -> Output: All neighboring atom column element that Input(:elemnt) match central atom column element\n",
    "\n",
    "            param1: Input: central atom column element In df_nnlist\n",
    "            \"\"\"\n",
    "            # 左側の列から対応する行を選択し、右側の数値を取得\n",
    "            # result = df_nnlist[df_nnlist['central atom'] == input_value]['neighboring atom'].values\n",
    "            neighboring_species_list = df[df['central atom'] == central_atom_id]['neighboring species'].tolist()\n",
    "            return neighboring_species_list\n",
    "    \n",
    "\n",
    "    def match_C_O_3(central_atom_id):\n",
    "        # 原子団の要素数は，Cが1つ，Oが3つの計4つかどうかcheck\n",
    "        if len(get_neighboring_species_list(central_atom_id)) == 4:\n",
    "            # 原子団の要素にCが1つだけ含まれているかどうかcheck\n",
    "            if get_neighboring_species_list(central_atom_id).count('C') == 1:\n",
    "                # 原子団の要素にOがちょうど3つ含まれているかどうかcheck\n",
    "                if get_neighboring_species_list(central_atom_id).count('O') == 3:\n",
    "                    return True\n",
    "            else:\n",
    "                return False\n",
    "        else:\n",
    "            return False\n",
    "        \n",
    "        \n",
    "    # df_nnlist_central_species_Cに対し，CO3がどうかを確認し，CO3である原子のid一覧を取得\n",
    "    # まず，中心元素がCのid一覧(central atomの値の一覧)を取得\n",
    "    central_species_C_list = df_nnlist_central_species_C['central atom'].unique()\n",
    "    # その中で，match_C_O_3()を用いて，過不足なくCO3だけを含むものに絞る\n",
    "    matched_central_species_C_list = [i for i in central_species_C_list if match_C_O_3(i)]\n",
    "     \n",
    "    return  True if len(matched_central_species_C_list) > 0 else False"
   ]
  },
  {
   "cell_type": "code",
   "execution_count": 22,
   "id": "6e576707-6aec-4d1c-82d5-8d795d8c58ca",
   "metadata": {
    "tags": []
   },
   "outputs": [],
   "source": [
    "def iterdir_func(poscar_dir):\n",
    "    return list(poscar_dir.iterdir())\n",
    "\n",
    "\n",
    "def flatten_func(list_2dim):\n",
    "    return list(itertools.chain.from_iterable(list_2dim))\n",
    "\n",
    "\n",
    "def folder_nnlist_filter(path):\n",
    "    # pattern = 'nnlist_.+$'  # 正規表現（：末尾が'nnlist_任意の文字が１個以上'で終わる）\n",
    "    pattern = 'nnlist_1.7$'  # 正規表現（：末尾が'nnlist_任意の文字が１個以上'で終わる）\n",
    "    string = str(path)\n",
    "    return bool(re.search(pattern, string))\n",
    "\n",
    "\n",
    "def poscar_nnlist_filter(path):\n",
    "    pattern = 'POSCAR.nnlist$'  # 正規表現（：末尾が'POSCAR.nnlist'で終わる）\n",
    "    string = str(path)\n",
    "    return bool(re.search(pattern, string))"
   ]
  },
  {
   "cell_type": "code",
   "execution_count": 5,
   "id": "c15e2b1a-1db0-494f-a108-65c07a7f1fcc",
   "metadata": {
    "tags": []
   },
   "outputs": [],
   "source": [
    "# C_O_existed_pos_nnlist_path_listを.npyからload\n",
    "npy_path = 'scripts_get_C_O_existed_poscar_abs_path_list/C_O_existed_poscar_folder_path_list.npy'\n",
    "C_O_existed_poscar_folder_path_list_loaded = np.load(npy_path, allow_pickle=True)"
   ]
  },
  {
   "cell_type": "code",
   "execution_count": 6,
   "id": "eadf8fff-ae5d-4bc2-9cef-eb27b5d7ac33",
   "metadata": {
    "tags": []
   },
   "outputs": [
    {
     "data": {
      "text/plain": [
       "array([PosixPath('/mnt/ssd_elecom_black_c2c_480G/cif/1/00/00/1000000'),\n",
       "       PosixPath('/mnt/ssd_elecom_black_c2c_480G/cif/1/00/00/1000001'),\n",
       "       PosixPath('/mnt/ssd_elecom_black_c2c_480G/cif/1/00/00/1000002'),\n",
       "       ...,\n",
       "       PosixPath('/mnt/ssd_elecom_black_c2c_480G/cif/9/01/78/9017813'),\n",
       "       PosixPath('/mnt/ssd_elecom_black_c2c_480G/cif/9/01/78/9017837'),\n",
       "       PosixPath('/mnt/ssd_elecom_black_c2c_480G/cif/9/01/79/9017907')],\n",
       "      dtype=object)"
      ]
     },
     "execution_count": 6,
     "metadata": {},
     "output_type": "execute_result"
    }
   ],
   "source": [
    "C_O_existed_poscar_folder_path_list_loaded"
   ]
  },
  {
   "cell_type": "code",
   "execution_count": 7,
   "id": "6a37d4da-b8da-4e8f-8bcc-eb788095d7a0",
   "metadata": {
    "tags": []
   },
   "outputs": [
    {
     "name": "stderr",
     "output_type": "stream",
     "text": [
      "100%|██████████████████████████████████████████████████████████████████████████████████████████████████████████████| 205733/205733 [03:12<00:00, 1068.09it/s]\n",
      "100%|█████████████████████████████████████████████████████████████████████████████████████████████████████████████| 617203/617203 [01:00<00:00, 10190.24it/s]\n"
     ]
    }
   ],
   "source": [
    "p = Pool(cpu_count() - 1)\n",
    "try:\n",
    "    # iterdir\n",
    "    C_O_existed_poscar_nnlist_path_list = list(tqdm(p.imap(iterdir_func, C_O_existed_poscar_folder_path_list_loaded), total=len(C_O_existed_poscar_folder_path_list_loaded)))\n",
    "    # flatten\n",
    "    C_O_existed_poscar_nnlist_path_list = flatten_func(C_O_existed_poscar_nnlist_path_list)\n",
    "    # make filter\n",
    "    folder_nnlist_filter = list(tqdm(p.imap(folder_nnlist_filter, C_O_existed_poscar_nnlist_path_list), total=len(C_O_existed_poscar_nnlist_path_list)))\n",
    "    # cast list to ndarray\n",
    "    C_O_existed_poscar_nnlist_path_list = np.array(C_O_existed_poscar_nnlist_path_list)\n",
    "    # apply filter to ndarray\n",
    "    C_O_existed_poscar_nnlist_path_list = C_O_existed_poscar_nnlist_path_list[folder_nnlist_filter]\n",
    "finally:\n",
    "    p.close()\n",
    "    p.join()"
   ]
  },
  {
   "cell_type": "code",
   "execution_count": null,
   "id": "ac3a1645-8a58-46a4-9a61-806716b0c056",
   "metadata": {},
   "outputs": [],
   "source": []
  },
  {
   "cell_type": "code",
   "execution_count": 8,
   "id": "ceafd2db-c5a8-4252-a4d3-f11623ef50d0",
   "metadata": {
    "tags": []
   },
   "outputs": [
    {
     "name": "stderr",
     "output_type": "stream",
     "text": [
      "100%|███████████████████████████████████████████████████████████████████████████████████████████████████████████████| 205733/205733 [04:10<00:00, 822.56it/s]\n",
      "100%|█████████████████████████████████████████████████████████████████████████████████████████████████████████████| 411466/411466 [00:41<00:00, 10021.97it/s]\n"
     ]
    }
   ],
   "source": [
    "p = Pool(cpu_count() - 1)\n",
    "try:\n",
    "    # iterdir\n",
    "    C_O_existed_poscar_nnlist_path_list = list(tqdm(p.imap(iterdir_func, C_O_existed_poscar_nnlist_path_list), total=len(C_O_existed_poscar_nnlist_path_list)))\n",
    "    # flatten\n",
    "    C_O_existed_poscar_nnlist_path_list = flatten_func(C_O_existed_poscar_nnlist_path_list)\n",
    "    # make filter\n",
    "    poscar_nnlist_filter = list(tqdm(p.imap(poscar_nnlist_filter, C_O_existed_poscar_nnlist_path_list), total=len(C_O_existed_poscar_nnlist_path_list)))\n",
    "    # cast list to ndarray\n",
    "    C_O_existed_poscar_nnlist_path_list = np.array(C_O_existed_poscar_nnlist_path_list)\n",
    "    # apply filter to ndarray\n",
    "    C_O_existed_poscar_nnlist_path_list = C_O_existed_poscar_nnlist_path_list[poscar_nnlist_filter]\n",
    "finally:\n",
    "    p.close()\n",
    "    p.join()"
   ]
  },
  {
   "cell_type": "code",
   "execution_count": null,
   "id": "6fc0677f-cac5-4f04-b6d6-898925de1ab2",
   "metadata": {},
   "outputs": [],
   "source": []
  },
  {
   "cell_type": "code",
   "execution_count": 13,
   "id": "13c18099-1186-4f6f-9367-75c2217cd693",
   "metadata": {
    "tags": []
   },
   "outputs": [
    {
     "name": "stdout",
     "output_type": "stream",
     "text": [
      "Now, judging whether C_O_existed_poscar file is CO3-contained or not.\n"
     ]
    },
    {
     "name": "stderr",
     "output_type": "stream",
     "text": [
      "100%|██████████████████████████████████████████████████████████████████████████████████████████████████████████████| 205733/205733 [1:20:47<00:00, 42.44it/s]\n"
     ]
    }
   ],
   "source": [
    "print(f\"Now, judging whether C_O_existed_poscar file is CO3-contained or not.\")\n",
    "p = Pool(cpu_count() - 1)\n",
    "try:\n",
    "    # make filter\n",
    "    CO3_contained_nnlist_filter = list(tqdm(p.imap(bool_CO3_contained_poscar, C_O_existed_poscar_nnlist_path_list), total=len(C_O_existed_poscar_nnlist_path_list)))\n",
    "    # apply filter to ndarray\n",
    "    CO3_contained_nnlist_path_list = np.array(C_O_existed_poscar_nnlist_path_list)[CO3_contained_nnlist_filter]\n",
    "finally:\n",
    "    p.close()\n",
    "    p.join()"
   ]
  },
  {
   "cell_type": "code",
   "execution_count": 14,
   "id": "fd8467a7-1698-4466-a6aa-749e34730aa4",
   "metadata": {
    "tags": []
   },
   "outputs": [
    {
     "name": "stdout",
     "output_type": "stream",
     "text": [
      "len(CO3_contained_nnlist_path_list)/len(C_O_existed_poscar_nnlist_path_list)):1189/205733\n"
     ]
    }
   ],
   "source": [
    "print(f\"len(CO3_contained_nnlist_path_list)/len(C_O_existed_poscar_nnlist_path_list)):\\\n",
    "{len(CO3_contained_nnlist_path_list)}/{len(C_O_existed_poscar_nnlist_path_list)}\")"
   ]
  },
  {
   "cell_type": "code",
   "execution_count": 25,
   "id": "14c0dd07-4963-4433-9a14-126e1024e9a3",
   "metadata": {
    "tags": []
   },
   "outputs": [],
   "source": [
    "CO3_contained_poscar_folder_path_list = [Path(os.path.split(os.path.split(p)[0])[0]) for p in CO3_contained_nnlist_path_list]"
   ]
  },
  {
   "cell_type": "code",
   "execution_count": 31,
   "id": "6281627f-a6d9-4bc6-9178-83b7850874d7",
   "metadata": {
    "tags": []
   },
   "outputs": [],
   "source": [
    "CO3_contained_poscar_path_list = [Path(str(p) + '/POSCAR') for p in CO3_contained_poscar_folder_path_list if os.path.exists(Path(str(p) + '/POSCAR'))]"
   ]
  },
  {
   "cell_type": "code",
   "execution_count": 33,
   "id": "272385c0-2061-45fd-b396-f6e5ff455ac1",
   "metadata": {
    "tags": []
   },
   "outputs": [],
   "source": [
    "# CO3を含むPOSCARファイルの親ディレクトリパスのリストを.npy形式で保存\n",
    "np.save('CO3_contained_poscar_folder_path_list.npy', CO3_contained_poscar_folder_path_list)\n",
    "# CO3を含むPOSCARファイルのパスを.npy形式で保存\n",
    "np.save('CO3_contained_poscar_path_list.npy', CO3_contained_poscar_path_list)"
   ]
  },
  {
   "cell_type": "code",
   "execution_count": null,
   "id": "b3028ba4-bf67-463a-9f42-7a0edb9909c8",
   "metadata": {},
   "outputs": [],
   "source": []
  },
  {
   "cell_type": "code",
   "execution_count": null,
   "id": "9e7a9f78-610d-446d-bbab-c498214b7dcc",
   "metadata": {},
   "outputs": [],
   "source": []
  },
  {
   "cell_type": "code",
   "execution_count": null,
   "id": "2eeda458-b190-42fa-8ebe-d22b4b0c6630",
   "metadata": {},
   "outputs": [],
   "source": [
    "# args = sys.argv\n",
    "\n",
    "# # C_O_existed_pos_nnlist_path_listを.npyからload\n",
    "# C_O_existed_poscar_folder_abs_path_list_loaded = np.load(args[1], allow_pickle=True)\n",
    "\n",
    "# # POSCAR.nnlistの絶対パスのリストを作成\n",
    "# C_O_existed_pos_nnlist_abs_path_list = [str(folder) + '/POSCAR.nnlist' for folder in C_O_existed_poscar_folder_abs_path_list_loaded]\n",
    "\n",
    "\n",
    "# print(f\"Now, judging whether C_O_existed_poscar file is CO3-contained or not.\")\n",
    "# p = Pool(cpu_count() - 1)\n",
    "# try:\n",
    "#     bool_CO3_contained_nnlist_list = list(tqdm(p.imap(bool_CO3_contained_poscar, C_O_existed_pos_nnlist_abs_path_list), total=len(C_O_existed_pos_nnlist_abs_path_list)))\n",
    "\n",
    "# finally:\n",
    "#     p.close()\n",
    "#     p.join()\n",
    "\n",
    "    \n",
    "# # CO3_contained_nnlist_abs_path_listを.npy形式で保存\n",
    "# CO3_contained_nnlist_abs_path_list = np.array(C_O_existed_pos_nnlist_abs_path_list)[bool_CO3_contained_nnlist_list]\n",
    "# print(f\"len(CO3_contained_nnlist_abs_path_list/len(C_O_existed_pos_nnlist_abs_path_list)): {len(CO3_contained_nnlist_abs_path_list)}/{len(C_O_existed_pos_nnlist_abs_path_list)}\")\n",
    "# # \n",
    "# CO3_contained_nnlist_abs_path_list\n",
    "# np.save('CO3_contained_poscar_path_list.npy', CO3_contained_poscar_folder_abs_path_list)\n",
    "\n"
   ]
  }
 ],
 "metadata": {
  "kernelspec": {
   "display_name": "Python 3 (ipykernel)",
   "language": "python",
   "name": "python3"
  },
  "language_info": {
   "codemirror_mode": {
    "name": "ipython",
    "version": 3
   },
   "file_extension": ".py",
   "mimetype": "text/x-python",
   "name": "python",
   "nbconvert_exporter": "python",
   "pygments_lexer": "ipython3",
   "version": "3.10.12"
  }
 },
 "nbformat": 4,
 "nbformat_minor": 5
}

{
 "cells": [
  {
   "cell_type": "code",
   "execution_count": 1,
   "id": "1d0420a7-1819-449b-870c-1008ef821cdd",
   "metadata": {
    "tags": []
   },
   "outputs": [],
   "source": [
    "import numpy as np"
   ]
  },
  {
   "cell_type": "code",
   "execution_count": 3,
   "id": "c9504426-b253-4147-8d15-96b7e5f47cc1",
   "metadata": {
    "tags": []
   },
   "outputs": [],
   "source": [
    "CO3_contained_poscar_folder_path_list_1_7_loaded = np.load('CO3_contained_poscar_folder_path_list_1.7.npy', allow_pickle=True)"
   ]
  },
  {
   "cell_type": "code",
   "execution_count": 5,
   "id": "35c61ce8-e96c-4386-ace0-88606b17c2b6",
   "metadata": {
    "tags": []
   },
   "outputs": [
    {
     "data": {
      "text/plain": [
       "1189"
      ]
     },
     "execution_count": 5,
     "metadata": {},
     "output_type": "execute_result"
    }
   ],
   "source": [
    "len(CO3_contained_poscar_folder_path_list_1_7_loaded)"
   ]
  },
  {
   "cell_type": "code",
   "execution_count": 6,
   "id": "7ae1ad59-4616-4e71-8c41-701cdb5335c0",
   "metadata": {
    "tags": []
   },
   "outputs": [],
   "source": [
    "CO3_contained_poscar_path_list_1_7 = np.load('CO3_contained_poscar_path_list_1.7.npy', allow_pickle=True)"
   ]
  },
  {
   "cell_type": "code",
   "execution_count": 8,
   "id": "d5cea7a1-cd10-4167-81a3-a5e9d7cf86da",
   "metadata": {
    "tags": []
   },
   "outputs": [
    {
     "data": {
      "text/plain": [
       "1189"
      ]
     },
     "execution_count": 8,
     "metadata": {},
     "output_type": "execute_result"
    }
   ],
   "source": [
    "len(CO3_contained_poscar_path_list_1_7)"
   ]
  },
  {
   "cell_type": "code",
   "execution_count": null,
   "id": "7f3dd934-ad4b-46a0-b790-d67789735f2b",
   "metadata": {},
   "outputs": [],
   "source": []
  },
  {
   "cell_type": "code",
   "execution_count": null,
   "id": "fc122b7d-c204-40d2-9316-9574e1e1d93b",
   "metadata": {},
   "outputs": [],
   "source": []
  },
  {
   "cell_type": "code",
   "execution_count": null,
   "id": "72a9771c-1844-43dc-b21c-4165783bbb0e",
   "metadata": {},
   "outputs": [],
   "source": []
  },
  {
   "cell_type": "code",
   "execution_count": 10,
   "id": "db4a3b03-16bd-4d96-a95e-d269fde10b38",
   "metadata": {
    "tags": []
   },
   "outputs": [],
   "source": [
    "dict_ = {1: [1, 2, 3], 2: [4, 5, 6]}"
   ]
  },
  {
   "cell_type": "code",
   "execution_count": 12,
   "id": "a50faf54-3a68-4ece-912f-31eb0aa8161b",
   "metadata": {
    "tags": []
   },
   "outputs": [
    {
     "data": {
      "text/plain": [
       "dict_keys([1, 2])"
      ]
     },
     "execution_count": 12,
     "metadata": {},
     "output_type": "execute_result"
    }
   ],
   "source": [
    "dict_.keys()"
   ]
  },
  {
   "cell_type": "code",
   "execution_count": 13,
   "id": "742fe8f3-2e56-499f-93fd-1718751bf22d",
   "metadata": {
    "tags": []
   },
   "outputs": [
    {
     "data": {
      "text/plain": [
       "dict_values([[1, 2, 3], [4, 5, 6]])"
      ]
     },
     "execution_count": 13,
     "metadata": {},
     "output_type": "execute_result"
    }
   ],
   "source": [
    "dict_.values()"
   ]
  },
  {
   "cell_type": "code",
   "execution_count": null,
   "id": "c7711d9d-b0ea-47fb-a561-ea1dedcd80f0",
   "metadata": {},
   "outputs": [],
   "source": [
    "dict_[2]"
   ]
  },
  {
   "cell_type": "code",
   "execution_count": 14,
   "id": "8cbf994b-a347-4164-bbac-f29559d656f3",
   "metadata": {
    "tags": []
   },
   "outputs": [
    {
     "ename": "SyntaxError",
     "evalue": "cannot assign to subscript here. Maybe you meant '==' instead of '='? (136841230.py, line 7)",
     "output_type": "error",
     "traceback": [
      "\u001b[0;36m  Cell \u001b[0;32mIn[14], line 7\u001b[0;36m\u001b[0m\n\u001b[0;31m    [C_cluster_dict[i]=get_neighboring_species_list(i) for i in central_species_C_list]\u001b[0m\n\u001b[0m     ^\u001b[0m\n\u001b[0;31mSyntaxError\u001b[0m\u001b[0;31m:\u001b[0m cannot assign to subscript here. Maybe you meant '==' instead of '='?\n"
     ]
    }
   ],
   "source": [
    "C_cluster_dict = {}\n",
    "central_species_C_list = [1, 2, 3]\n",
    "\n",
    "def get_neighboring_species_list(x):\n",
    "    return x ** 2\n",
    "\n",
    "[C_cluster_dict[i]=get_neighboring_species_list(i) for i in central_species_C_list]"
   ]
  },
  {
   "cell_type": "code",
   "execution_count": null,
   "id": "508aadce-27cf-45c0-b708-25f9d41c4e31",
   "metadata": {},
   "outputs": [],
   "source": []
  },
  {
   "cell_type": "code",
   "execution_count": null,
   "id": "e759cab6-be54-4b44-948c-8a38d65068ce",
   "metadata": {},
   "outputs": [],
   "source": []
  },
  {
   "cell_type": "markdown",
   "id": "a0bc51cc-7727-43f8-ad04-8413bb180050",
   "metadata": {},
   "source": [
    "### 成功例"
   ]
  },
  {
   "cell_type": "code",
   "execution_count": 22,
   "id": "ede47086-3b6d-4414-a81c-c6407ebcf7d0",
   "metadata": {
    "tags": []
   },
   "outputs": [],
   "source": [
    "def get_neighboring_species_list(x):\n",
    "    return [x**2, x**3]\n",
    "\n",
    "\n",
    "C_cluster_dict = {}\n",
    "central_species_C_list = [1, 2, 3]\n",
    "\n",
    "\n",
    "for i in central_species_C_list:    \n",
    "    C_cluster_dict[i] = get_neighboring_species_list(i)"
   ]
  },
  {
   "cell_type": "code",
   "execution_count": 23,
   "id": "819ee7c2-f0f2-47ab-9404-e39a92a32f52",
   "metadata": {
    "tags": []
   },
   "outputs": [
    {
     "data": {
      "text/plain": [
       "{1: [1, 1], 2: [4, 8], 3: [9, 27]}"
      ]
     },
     "execution_count": 23,
     "metadata": {},
     "output_type": "execute_result"
    }
   ],
   "source": [
    "C_cluster_dict"
   ]
  },
  {
   "cell_type": "code",
   "execution_count": 41,
   "id": "069deeed-c86b-4201-9a2c-c50191897e57",
   "metadata": {
    "tags": []
   },
   "outputs": [
    {
     "data": {
      "text/plain": [
       "[True, False, True]"
      ]
     },
     "execution_count": 41,
     "metadata": {},
     "output_type": "execute_result"
    }
   ],
   "source": [
    "CO3_filter = [not (4 in i) for i in C_cluster_dict.values()]\n",
    "CO3_filter"
   ]
  },
  {
   "cell_type": "code",
   "execution_count": 42,
   "id": "89cd3209-aa45-43ac-a283-798765903a2c",
   "metadata": {
    "tags": []
   },
   "outputs": [
    {
     "data": {
      "text/plain": [
       "array([1, 3])"
      ]
     },
     "execution_count": 42,
     "metadata": {},
     "output_type": "execute_result"
    }
   ],
   "source": [
    "import numpy as np\n",
    "np.array(list(C_cluster_dict.keys()))[CO3_filter]"
   ]
  },
  {
   "cell_type": "code",
   "execution_count": null,
   "id": "e3f4dd5a-762a-47b8-a5f6-eefd759bfea8",
   "metadata": {},
   "outputs": [],
   "source": []
  },
  {
   "cell_type": "code",
   "execution_count": null,
   "id": "9ea6060c-bc3b-42ed-95ee-b24cd86f6a1c",
   "metadata": {},
   "outputs": [],
   "source": []
  },
  {
   "cell_type": "code",
   "execution_count": null,
   "id": "acdc7d52-438d-44a8-ba29-ccc30ce3d6ba",
   "metadata": {},
   "outputs": [],
   "source": []
  },
  {
   "cell_type": "code",
   "execution_count": null,
   "id": "76d2bd65-4500-45d4-b3b0-0b819ea212b6",
   "metadata": {},
   "outputs": [],
   "source": []
  },
  {
   "cell_type": "code",
   "execution_count": 9,
   "id": "14a12cb2-e0ad-41e3-b673-c0849c49e1e3",
   "metadata": {
    "tags": []
   },
   "outputs": [
    {
     "data": {
      "text/plain": [
       "array([PosixPath('/mnt/ssd_elecom_black_c2c_480G/cif/1/00/00/1000033'),\n",
       "       PosixPath('/mnt/ssd_elecom_black_c2c_480G/cif/1/00/00/1000052'),\n",
       "       PosixPath('/mnt/ssd_elecom_black_c2c_480G/cif/1/00/03/1000320'),\n",
       "       ...,\n",
       "       PosixPath('/mnt/ssd_elecom_black_c2c_480G/cif/9/01/77/9017727'),\n",
       "       PosixPath('/mnt/ssd_elecom_black_c2c_480G/cif/9/01/78/9017813'),\n",
       "       PosixPath('/mnt/ssd_elecom_black_c2c_480G/cif/9/01/78/9017837')],\n",
       "      dtype=object)"
      ]
     },
     "execution_count": 9,
     "metadata": {},
     "output_type": "execute_result"
    }
   ],
   "source": [
    "np.load('CO3_contained_poscar_folder_path_list_1.7.npy', allow_pickle=True)"
   ]
  }
 ],
 "metadata": {
  "kernelspec": {
   "display_name": "Python 3 (ipykernel)",
   "language": "python",
   "name": "python3"
  },
  "language_info": {
   "codemirror_mode": {
    "name": "ipython",
    "version": 3
   },
   "file_extension": ".py",
   "mimetype": "text/x-python",
   "name": "python",
   "nbconvert_exporter": "python",
   "pygments_lexer": "ipython3",
   "version": "3.10.12"
  }
 },
 "nbformat": 4,
 "nbformat_minor": 5
}

{
 "cells": [
  {
   "cell_type": "code",
   "execution_count": 1,
   "id": "ade9d943-743d-4bb4-ab66-ae2833740d84",
   "metadata": {
    "tags": []
   },
   "outputs": [],
   "source": [
    "import os\n",
    "import re\n",
    "import sys\n",
    "import itertools\n",
    "from pathlib import Path\n",
    "from multiprocessing import Pool, cpu_count\n",
    "\n",
    "from tqdm import tqdm\n",
    "import numpy as np\n",
    "\n",
    "from my_package.textfile2df import nnlist2df\n"
   ]
  },
  {
   "cell_type": "code",
   "execution_count": 6,
   "id": "c2938205-71d7-4c52-aa80-882eb58c944a",
   "metadata": {
    "tags": []
   },
   "outputs": [],
   "source": [
    "\n",
    "# # どの距離のPOSCAR.nnlistを，CO3を含むPOSCARかどうかの判定に使うのかを受け取る\n",
    "# args = sys.argv\n",
    "\n",
    "\n",
    "def flatten_func(list_2dim):\n",
    "    return list(itertools.chain.from_iterable(list_2dim))\n",
    "\n",
    "\n",
    "def bool_CO3_contained_poscar(poscar_nnlist):\n",
    "    df_nnlist = nnlist2df(str(poscar_nnlist))\n",
    "\n",
    "    # df_nnlistでcentral speciesがCのものに絞る\n",
    "    df_nnlist_central_species_C = df_nnlist[df_nnlist['central species'] == 'C']\n",
    "\n",
    "    # さらに，炭酸イオンかどうかを判定するためにに，あるcentral atomのneighboring speciesがCとO３つの計４つでできているか確認したい\n",
    "    # central atomの値を入力すれば，neighboring speciesのリストを返す関数()を作成\n",
    "    def (central_atom_id, df=df_nnlist_central_species_C):\n",
    "        \"\"\"\n",
    "        To get all central atoms of a cluster(:neighbors), Input a number of cluster center element number(:central atom)\n",
    "\n",
    "        Input: central atom column element In df_nnlist\n",
    "     -> Output: All neighboring atom column element that Input(:elemnt) match central atom column element\n",
    "\n",
    "        param1: Input: central atom column element In df_nnlist\n",
    "        \"\"\"\n",
    "        # 左側の列から対応する行を選択し、右側の数値を取得\n",
    "        # result = df_nnlist[df_nnlist['central atom'] == input_value]['neighboring atom'].values\n",
    "        neighboring_species_list = df[df['central atom'] == central_atom_id]['neighboring species'].tolist()\n",
    "        return neighboring_species_list\n",
    "\n",
    "    def match_num_C_O_3(central_atom_id):\n",
    "        # 原子団の要素数は，Cが1つ，Oが3つの計4つかどうかcheck\n",
    "        if len((central_atom_id)) == 4:\n",
    "            # 原子団の要素にCが1つだけ含まれているかどうかcheck\n",
    "            if (central_atom_id).count('C') == 1:\n",
    "                # 原子団の要素にOがちょうど3つ含まれているかどうかcheck\n",
    "                if (central_atom_id).count('O') == 3:\n",
    "                    return True\n",
    "            else:\n",
    "                return False\n",
    "        else:\n",
    "            return False\n",
    "\n",
    "    # C2O6のようなCO3に似通っているものを排除する\n",
    "    def match_C_O_3():\n",
    "\n",
    "        def has_duplicates(seq):\n",
    "            return len(seq) != len(set(seq))\n",
    "    \n",
    "        # df_nnlist_central_species_Cに対し，CO3がどうかを確認し，CO3である原子のid一覧を取得\n",
    "        # まず，中心元素がCのid一覧(central atomの値の一覧)を取得\n",
    "        central_species_C_list = df_nnlist_central_species_C['central atom'].unique()\n",
    "        \n",
    "        \n",
    "        species_id_list = flatten_func(list(map(, central_species_C_list)))\n",
    "        set_species_id_list = list(set(species_id_list))\n",
    "        \n",
    "        for num in set_species_id_list:\n",
    "            species_id_list.remove(num)\n",
    "        \n",
    "        \n",
    "        central_species_C_dict = {}\n",
    "        for i in central_species_C_list:    \n",
    "            central_species_C_dict[i] = (i)\n",
    "            \n",
    "        CO3_filter_list = []\n",
    "        for duplicated_num in species_id_list:\n",
    "            CO3_filter_list.append([not (duplicated_num in list_) for list_ in central_species_C_dict.values()])\n",
    "            #論理積\n",
    "            CO3_filter = [min(t) for t in zip(*CO3_filter_list)]\n",
    "        \n",
    "        return CO3_filter\n",
    "            \n",
    "        \n",
    "        \n",
    "    match_C_O_3()\n",
    "            \n",
    "            \n",
    "        \n",
    "        # CO3_filter = [not (duplicated_num in i) for duplicated_num in species_id_list for i in central_species_C_dict.values()]\n",
    "        \n",
    "        \n",
    "        \n",
    "#         for duplicated_num in species_id_list:\n",
    "#             CO3_filter = [not (duplicated_num in i) for i in central_species_C_dict.values()]\n",
    "        \n",
    "        \n",
    "        \n",
    "        \n",
    "        \n",
    "        \n",
    "        \n",
    "        \n",
    "#         if has_duplicates(species_list):\n",
    "            \n",
    "#         else:\n",
    "#             return True\n",
    "        \n",
    "        \n",
    "        \n",
    "    \n",
    "    # df_nnlist_central_species_Cに対し，CO3がどうかを確認し，CO3である原子のid一覧を取得\n",
    "    # まず，中心元素がCのid一覧(central atomの値の一覧)を取得\n",
    "    central_species_C_list = df_nnlist_central_species_C['central atom'].unique()\n",
    "    # その中で，match_num_C_O_3()を用いて，過不足なくCO3だけを含むものに絞る\n",
    "    matched_central_species_C_list = [i for i in central_species_C_list if match_num_C_O_3(i)]\n",
    "\n",
    "    return True if len(matched_central_species_C_list) > 0 else False\n",
    "\n"
   ]
  },
  {
   "cell_type": "code",
   "execution_count": 7,
   "id": "325def98-cb55-47e5-a8e5-32cb2d2e7c73",
   "metadata": {
    "tags": []
   },
   "outputs": [],
   "source": [
    "bool_CO3_contained_poscar('POSCAR.nnlist')"
   ]
  },
  {
   "cell_type": "code",
   "execution_count": null,
   "id": "cafe5640-9631-404f-85f7-6ca3c3c92bf8",
   "metadata": {},
   "outputs": [],
   "source": []
  },
  {
   "cell_type": "code",
   "execution_count": 19,
   "id": "b9c939af-b39c-4955-9b03-d3882e143342",
   "metadata": {
    "tags": []
   },
   "outputs": [
    {
     "name": "stdout",
     "output_type": "stream",
     "text": [
      "      1     1    0.000000    0.000000   0.000000   0.000000    0   0   0  O O\n",
      "      1   131    1.275056    0.650996   0.267192   1.063287    0   0   0  O C\n",
      "      2     2    0.000000    0.000000   0.000000   0.000000    0   0   0  O O\n",
      "      2   132    1.275056    0.650996  -0.267192   1.063287    0   0   0  O C\n",
      "      3     3    0.000000    0.000000   0.000000   0.000000    0   0   0  O O\n",
      "      3   133    1.275056   -0.650996  -0.267192  -1.063287    0   0   0  O C\n",
      "      4     4    0.000000    0.000000   0.000000   0.000000    0   0   0  O O\n",
      "      4   134    1.275056   -0.650996   0.267192  -1.063287    0   0   0  O C\n",
      "      5     5    0.000000    0.000000   0.000000   0.000000    0   0   0  O O\n",
      "      5   131    1.268835   -1.214450   0.367389  -0.008861    0   0   0  O C\n"
     ]
    }
   ],
   "source": [
    "!head POSCAR.nnlist"
   ]
  },
  {
   "cell_type": "code",
   "execution_count": null,
   "id": "b32ea211-0e40-4edf-9083-4f5de85633e2",
   "metadata": {},
   "outputs": [],
   "source": []
  },
  {
   "cell_type": "code",
   "execution_count": 40,
   "id": "2140afd2-6a88-42fe-a244-eecf03326415",
   "metadata": {
    "tags": []
   },
   "outputs": [],
   "source": [
    "# C2O6のようなCO3に似通っているものを排除する\n",
    "\n",
    "poscar_nnlist = 'POSCAR.nnlist'\n",
    "df_nnlist = nnlist2df(str(poscar_nnlist))\n",
    "\n",
    "# df_nnlistでcentral speciesがCのものに絞る\n",
    "df_nnlist_central_species_C = df_nnlist[df_nnlist['central species'] == 'C']\n",
    "\n",
    "# さらに，炭酸イオンかどうかを判定するためにに，あるcentral atomのneighboring speciesがCとO３つの計４つでできているか確認したい\n",
    "# central atomの値を入力すれば，neighboring speciesのリストを返す関数get_neighboring_species_list()を作成\n",
    "def get_neighboring_species_list(central_atom_id, df=df_nnlist_central_species_C):\n",
    "    \"\"\"\n",
    "    To get all central atoms of a cluster(:neighbors), Input a number of cluster center element number(:central atom)\n",
    "\n",
    "    Input: central atom column element In df_nnlist\n",
    " -> Output: All neighboring atom column element that Input(:elemnt) match central atom column element\n",
    "\n",
    "    param1: Input: central atom column element In df_nnlist\n",
    "    \"\"\"\n",
    "    # 左側の列から対応する行を選択し、右側の数値を取得\n",
    "    # result = df_nnlist[df_nnlist['central atom'] == input_value]['neighboring atom'].values\n",
    "    neighboring_species_list = df[df['central atom'] == central_atom_id]['neighboring species'].tolist()\n",
    "    return neighboring_species_list\n",
    "\n",
    "\n",
    "def get_neighboring_atom_id_list(central_atom_id, df=df_nnlist_central_species_C):\n",
    "    \"\"\"\n",
    "    To get all central atoms of a cluster(:neighbors), Input a number of cluster center element number(:central atom)\n",
    "\n",
    "    Input: central atom column element In df_nnlist\n",
    " -> Output: All neighboring atom column element that Input(:elemnt) match central atom column element\n",
    "\n",
    "    param1: Input: central atom column element In df_nnlist\n",
    "    \"\"\"\n",
    "    # 左側の列から対応する行を選択し、右側の数値を取得\n",
    "    # result = df_nnlist[df_nnlist['central atom'] == input_value]['neighboring atom'].values\n",
    "    neighboring_atom_id_list = df[df['central atom'] == central_atom_id]['neighboring atom'].tolist()\n",
    "    return neighboring_atom_id_list\n",
    "\n",
    "\n",
    "\n",
    "    # def has_duplicates(seq):\n",
    "    #     return len(seq) != len(set(seq))\n",
    "\n",
    "# df_nnlist_central_species_Cに対し，CO3がどうかを確認し，CO3である原子のid一覧を取得\n",
    "# まず，中心元素がCのid一覧(central atomの値の一覧)を取得\n",
    "central_species_C_list = df_nnlist_central_species_C['central atom'].unique()\n",
    "# import pdb; pdb.set_trace()\n",
    "\n",
    "species_id_list = flatten_func(list(map(get_neighboring_atom_id_list, central_species_C_list)))\n",
    "set_species_id_list = list(set(species_id_list))\n",
    "# import pdb; pdb.set_trace()\n",
    "\n",
    "for num in set_species_id_list:\n",
    "    species_id_list.remove(num)\n",
    "\n",
    "\n",
    "central_species_C_dict = {}\n",
    "for i in central_species_C_list:    \n",
    "    central_species_C_dict[i] = get_neighboring_atom_id_list(i)\n",
    "# import pdb; pdb.set_trace()\n",
    "    \n",
    "\n",
    "\n",
    "# import pdb; pdb.set_trace()\n",
    "\n",
    "# for duplicated_num in species_id_list:\n",
    "#     CO3_filter_list.append([not (duplicated_num in list_) for list_ in central_species_C_dict.values()])\n",
    "\n",
    "    \n",
    "\n",
    "    \n",
    "# import pdb; pdb.set_trace()\n",
    "    #論理積\n",
    "    # CO3_filter = [min(t) for t in zip(*CO3_filter_list)]\n",
    "   \n",
    "\n",
    "# CO3_filter\n",
    "# import pdb; pdb.set_trace()\n"
   ]
  },
  {
   "cell_type": "code",
   "execution_count": 41,
   "id": "ba2dd61c-d599-4eff-95ac-610c89bc721a",
   "metadata": {
    "tags": []
   },
   "outputs": [
    {
     "data": {
      "text/plain": [
       "{131: [1, 5, 9, 131],\n",
       " 132: [2, 6, 10, 132],\n",
       " 133: [3, 7, 11, 133],\n",
       " 134: [4, 8, 12, 134],\n",
       " 135: [13, 17, 135],\n",
       " 136: [14, 18, 136],\n",
       " 137: [15, 19, 137],\n",
       " 138: [16, 20, 138],\n",
       " 139: [27, 29, 139],\n",
       " 140: [28, 30, 140],\n",
       " 141: [25, 31, 141],\n",
       " 142: [26, 32, 142],\n",
       " 143: [37, 41, 143],\n",
       " 144: [38, 42, 144],\n",
       " 145: [39, 43, 145],\n",
       " 146: [40, 44, 146],\n",
       " 147: [49, 147],\n",
       " 148: [50, 148],\n",
       " 149: [57, 149],\n",
       " 150: [58, 150],\n",
       " 151: [55, 151],\n",
       " 152: [56, 152],\n",
       " 153: [67, 153],\n",
       " 154: [68, 154]}"
      ]
     },
     "execution_count": 41,
     "metadata": {},
     "output_type": "execute_result"
    }
   ],
   "source": [
    "central_species_C_dict"
   ]
  },
  {
   "cell_type": "code",
   "execution_count": 43,
   "id": "034fc132-d1dc-4075-87d8-c7f4f73fd76f",
   "metadata": {
    "tags": []
   },
   "outputs": [
    {
     "data": {
      "text/plain": [
       "[[1, 5, 9, 131],\n",
       " [2, 6, 10, 132],\n",
       " [3, 7, 11, 133],\n",
       " [4, 8, 12, 134],\n",
       " [13, 17, 135],\n",
       " [14, 18, 136],\n",
       " [15, 19, 137],\n",
       " [16, 20, 138],\n",
       " [27, 29, 139],\n",
       " [28, 30, 140],\n",
       " [25, 31, 141],\n",
       " [26, 32, 142],\n",
       " [37, 41, 143],\n",
       " [38, 42, 144],\n",
       " [39, 43, 145],\n",
       " [40, 44, 146],\n",
       " [49, 147],\n",
       " [50, 148],\n",
       " [57, 149],\n",
       " [58, 150],\n",
       " [55, 151],\n",
       " [56, 152],\n",
       " [67, 153],\n",
       " [68, 154]]"
      ]
     },
     "execution_count": 43,
     "metadata": {},
     "output_type": "execute_result"
    }
   ],
   "source": [
    "[list_ for list_ in central_species_C_dict.values()]"
   ]
  },
  {
   "cell_type": "code",
   "execution_count": 51,
   "id": "dfcc5d5b-493f-48f9-8a08-5768a81f1983",
   "metadata": {
    "tags": []
   },
   "outputs": [],
   "source": [
    "species_id_list = [131, 132, 134]"
   ]
  },
  {
   "cell_type": "code",
   "execution_count": 52,
   "id": "6ee4658f-662a-43c6-8a0c-4d5685d3da16",
   "metadata": {
    "tags": []
   },
   "outputs": [],
   "source": [
    "CO3_filter_list = []\n",
    "for duplicated_num in species_id_list:\n",
    "    CO3_filter_list.append([not (duplicated_num in list_) for list_ in central_species_C_dict.values()])\n"
   ]
  },
  {
   "cell_type": "code",
   "execution_count": 53,
   "id": "c6998e2a-8253-4d5e-910e-7eb613a23177",
   "metadata": {
    "tags": []
   },
   "outputs": [
    {
     "data": {
      "text/plain": [
       "[[False,\n",
       "  True,\n",
       "  True,\n",
       "  True,\n",
       "  True,\n",
       "  True,\n",
       "  True,\n",
       "  True,\n",
       "  True,\n",
       "  True,\n",
       "  True,\n",
       "  True,\n",
       "  True,\n",
       "  True,\n",
       "  True,\n",
       "  True,\n",
       "  True,\n",
       "  True,\n",
       "  True,\n",
       "  True,\n",
       "  True,\n",
       "  True,\n",
       "  True,\n",
       "  True],\n",
       " [True,\n",
       "  False,\n",
       "  True,\n",
       "  True,\n",
       "  True,\n",
       "  True,\n",
       "  True,\n",
       "  True,\n",
       "  True,\n",
       "  True,\n",
       "  True,\n",
       "  True,\n",
       "  True,\n",
       "  True,\n",
       "  True,\n",
       "  True,\n",
       "  True,\n",
       "  True,\n",
       "  True,\n",
       "  True,\n",
       "  True,\n",
       "  True,\n",
       "  True,\n",
       "  True],\n",
       " [True,\n",
       "  True,\n",
       "  True,\n",
       "  False,\n",
       "  True,\n",
       "  True,\n",
       "  True,\n",
       "  True,\n",
       "  True,\n",
       "  True,\n",
       "  True,\n",
       "  True,\n",
       "  True,\n",
       "  True,\n",
       "  True,\n",
       "  True,\n",
       "  True,\n",
       "  True,\n",
       "  True,\n",
       "  True,\n",
       "  True,\n",
       "  True,\n",
       "  True,\n",
       "  True]]"
      ]
     },
     "execution_count": 53,
     "metadata": {},
     "output_type": "execute_result"
    }
   ],
   "source": [
    "CO3_filter_list"
   ]
  },
  {
   "cell_type": "code",
   "execution_count": 57,
   "id": "437888c1-9d17-48e5-8312-c61e47c8e85d",
   "metadata": {
    "tags": []
   },
   "outputs": [
    {
     "data": {
      "text/plain": [
       "[False,\n",
       " False,\n",
       " True,\n",
       " False,\n",
       " True,\n",
       " True,\n",
       " True,\n",
       " True,\n",
       " True,\n",
       " True,\n",
       " True,\n",
       " True,\n",
       " True,\n",
       " True,\n",
       " True,\n",
       " True,\n",
       " True,\n",
       " True,\n",
       " True,\n",
       " True,\n",
       " True,\n",
       " True,\n",
       " True,\n",
       " True]"
      ]
     },
     "execution_count": 57,
     "metadata": {},
     "output_type": "execute_result"
    }
   ],
   "source": [
    "\n",
    "# 論理積\n",
    "CO3_filter = [min(t) for t in zip(*CO3_filter_list)]    \n",
    "CO3_filter"
   ]
  },
  {
   "cell_type": "code",
   "execution_count": 63,
   "id": "4a82690b-009e-4a8c-9c92-6703d9c425e4",
   "metadata": {
    "tags": []
   },
   "outputs": [],
   "source": [
    "CO3_filter = np.array(CO3_filter)\n",
    "CO3_filter = ~CO3_filter"
   ]
  },
  {
   "cell_type": "code",
   "execution_count": 64,
   "id": "cca9f2d4-1d09-4a78-8fd8-453297e634a4",
   "metadata": {
    "tags": []
   },
   "outputs": [
    {
     "data": {
      "text/plain": [
       "array([ True,  True, False,  True, False, False, False, False, False,\n",
       "       False, False, False, False, False, False, False, False, False,\n",
       "       False, False, False, False, False, False])"
      ]
     },
     "execution_count": 64,
     "metadata": {},
     "output_type": "execute_result"
    }
   ],
   "source": [
    "CO3_filter"
   ]
  },
  {
   "cell_type": "code",
   "execution_count": 65,
   "id": "c0f4b237-6fee-4528-8ca6-cd958ade6944",
   "metadata": {
    "tags": []
   },
   "outputs": [
    {
     "data": {
      "text/plain": [
       "24"
      ]
     },
     "execution_count": 65,
     "metadata": {},
     "output_type": "execute_result"
    }
   ],
   "source": []
  },
  {
   "cell_type": "code",
   "execution_count": null,
   "id": "9005f796-c182-47e4-8696-2f1ee4b76f4e",
   "metadata": {},
   "outputs": [],
   "source": []
  },
  {
   "cell_type": "code",
   "execution_count": null,
   "id": "25099390-9da0-412e-91d9-cbb1fb1c6832",
   "metadata": {},
   "outputs": [],
   "source": []
  },
  {
   "cell_type": "code",
   "execution_count": null,
   "id": "cfc50f6e-73ac-43cb-8a55-b4c022217623",
   "metadata": {},
   "outputs": [],
   "source": []
  },
  {
   "cell_type": "code",
   "execution_count": null,
   "id": "07be54ca-25a1-4182-8d52-48cb20d0acb5",
   "metadata": {},
   "outputs": [],
   "source": []
  },
  {
   "cell_type": "markdown",
   "id": "9adb669a-cc12-4773-86ab-ea4ad5f528ff",
   "metadata": {},
   "source": [
    "## コード成形"
   ]
  },
  {
   "cell_type": "code",
   "execution_count": 134,
   "id": "05a6f9e9-5e11-4946-aeff-1b2b75d1138b",
   "metadata": {
    "tags": []
   },
   "outputs": [
    {
     "name": "stdout",
     "output_type": "stream",
     "text": [
      "--Return--\n",
      "None\n",
      "> \u001b[0;32m/tmp/ipykernel_1465283/3828249376.py\u001b[0m(48)\u001b[0;36m<module>\u001b[0;34m()\u001b[0m\n",
      "\u001b[0;32m     46 \u001b[0;31m\u001b[0;31m# まず，中心元素がCのid一覧(central atomの値の一覧)を取得\u001b[0m\u001b[0;34m\u001b[0m\u001b[0;34m\u001b[0m\u001b[0m\n",
      "\u001b[0m\u001b[0;32m     47 \u001b[0;31m\u001b[0mcentral_species_C_list\u001b[0m \u001b[0;34m=\u001b[0m \u001b[0mdf_nnlist_central_species_C\u001b[0m\u001b[0;34m[\u001b[0m\u001b[0;34m'central atom'\u001b[0m\u001b[0;34m]\u001b[0m\u001b[0;34m.\u001b[0m\u001b[0munique\u001b[0m\u001b[0;34m(\u001b[0m\u001b[0;34m)\u001b[0m\u001b[0;34m\u001b[0m\u001b[0;34m\u001b[0m\u001b[0m\n",
      "\u001b[0m\u001b[0;32m---> 48 \u001b[0;31m\u001b[0;32mimport\u001b[0m \u001b[0mpdb\u001b[0m\u001b[0;34m;\u001b[0m \u001b[0mpdb\u001b[0m\u001b[0;34m.\u001b[0m\u001b[0mset_trace\u001b[0m\u001b[0;34m(\u001b[0m\u001b[0;34m)\u001b[0m\u001b[0;34m\u001b[0m\u001b[0;34m\u001b[0m\u001b[0m\n",
      "\u001b[0m\u001b[0;32m     49 \u001b[0;31m\u001b[0;34m\u001b[0m\u001b[0m\n",
      "\u001b[0m\u001b[0;32m     50 \u001b[0;31m\u001b[0mspecies_id_list\u001b[0m \u001b[0;34m=\u001b[0m \u001b[0mflatten_func\u001b[0m\u001b[0;34m(\u001b[0m\u001b[0mlist\u001b[0m\u001b[0;34m(\u001b[0m\u001b[0mmap\u001b[0m\u001b[0;34m(\u001b[0m\u001b[0mget_neighboring_atom_id_list\u001b[0m\u001b[0;34m,\u001b[0m \u001b[0mcentral_species_C_list\u001b[0m\u001b[0;34m)\u001b[0m\u001b[0;34m)\u001b[0m\u001b[0;34m)\u001b[0m\u001b[0;34m\u001b[0m\u001b[0;34m\u001b[0m\u001b[0m\n",
      "\u001b[0m\n"
     ]
    },
    {
     "name": "stdin",
     "output_type": "stream",
     "text": [
      "ipdb>  exit\n"
     ]
    }
   ],
   "source": [
    "# C2O6のようなCO3に似通っているものを排除する\n",
    "\n",
    "poscar_nnlist = 'POSCAR.nnlist'\n",
    "df_nnlist = nnlist2df(str(poscar_nnlist))\n",
    "\n",
    "# df_nnlistでcentral speciesがCのものに絞る\n",
    "df_nnlist_central_species_C = df_nnlist[df_nnlist['central species'] == 'C']\n",
    "\n",
    "# さらに，炭酸イオンかどうかを判定するためにに，あるcentral atomのneighboring speciesがCとO３つの計４つでできているか確認したい\n",
    "# central atomの値を入力すれば，neighboring speciesのリストを返す関数get_neighboring_species_list()を作成\n",
    "def get_neighboring_species_list(central_atom_id, df=df_nnlist_central_species_C):\n",
    "    \"\"\"\n",
    "    To get all central atoms of a cluster(:neighbors), Input a number of cluster center element number(:central atom)\n",
    "\n",
    "    Input: central atom column element In df_nnlist\n",
    " -> Output: All neighboring atom column element that Input(:elemnt) match central atom column element\n",
    "\n",
    "    param1: Input: central atom column element In df_nnlist\n",
    "    \"\"\"\n",
    "    # 左側の列から対応する行を選択し、右側の数値を取得\n",
    "    # result = df_nnlist[df_nnlist['central atom'] == input_value]['neighboring atom'].values\n",
    "    neighboring_species_list = df[df['central atom'] == central_atom_id]['neighboring species'].tolist()\n",
    "    return neighboring_species_list\n",
    "\n",
    "\n",
    "def get_neighboring_atom_id_list(central_atom_id, df=df_nnlist_central_species_C):\n",
    "    \"\"\"\n",
    "    To get all central atoms of a cluster(:neighbors), Input a number of cluster center element number(:central atom)\n",
    "\n",
    "    Input: central atom column element In df_nnlist\n",
    " -> Output: All neighboring atom column element that Input(:elemnt) match central atom column element\n",
    "\n",
    "    param1: Input: central atom column element In df_nnlist\n",
    "    \"\"\"\n",
    "    # 左側の列から対応する行を選択し、右側の数値を取得\n",
    "    # result = df_nnlist[df_nnlist['central atom'] == input_value]['neighboring atom'].values\n",
    "    neighboring_atom_id_list = df[df['central atom'] == central_atom_id]['neighboring atom'].tolist()\n",
    "    return neighboring_atom_id_list\n",
    "\n",
    "\n",
    "\n",
    "    # def has_duplicates(seq):\n",
    "    #     return len(seq) != len(set(seq))\n",
    "\n",
    "# df_nnlist_central_species_Cに対し，CO3がどうかを確認し，CO3である原子のid一覧を取得\n",
    "# まず，中心元素がCのid一覧(central atomの値の一覧)を取得\n",
    "central_species_C_list = df_nnlist_central_species_C['central atom'].unique()\n",
    "import pdb; pdb.set_trace()\n",
    "\n",
    "species_id_list = flatten_func(list(map(get_neighboring_atom_id_list, central_species_C_list)))\n",
    "set_species_id_list = list(set(species_id_list))\n",
    "# import pdb; pdb.set_trace()\n",
    "\n",
    "for num in set_species_id_list:\n",
    "    species_id_list.remove(num)\n",
    "\n",
    "\n",
    "central_species_C_dict = {}\n",
    "for i in central_species_C_list:    \n",
    "    central_species_C_dict[i] = get_neighboring_atom_id_list(i)\n",
    "# import pdb; pdb.set_trace()\n",
    "    \n",
    "\n",
    "\n",
    "# import pdb; pdb.set_trace()\n",
    "\n",
    "for duplicated_num in species_id_list:\n",
    "    CO3_filter_list.append([not (duplicated_num in list_) for list_ in central_species_C_dict.values()])\n",
    "\n",
    "# 論理積\n",
    "CO3_filter = [min(t) for t in zip(*CO3_filter_list)]\n",
    "   \n",
    "CO3_matched_central_species_C_list = np.array(list(central_species_C_dict.keys()))[CO3_filter]\n",
    "# CO3_filter\n",
    "# import pdb; pdb.set_trace()\n"
   ]
  },
  {
   "cell_type": "code",
   "execution_count": 70,
   "id": "d73fc256-87f1-45f2-aecd-4a54d19773df",
   "metadata": {
    "tags": []
   },
   "outputs": [
    {
     "data": {
      "text/plain": [
       "array([133, 135, 136, 137, 138, 139, 140, 141, 142, 143, 144, 145, 146,\n",
       "       147, 148, 149, 150, 151, 152, 153, 154])"
      ]
     },
     "execution_count": 70,
     "metadata": {},
     "output_type": "execute_result"
    }
   ],
   "source": [
    "CO3_matched_central_species_C_list"
   ]
  },
  {
   "cell_type": "code",
   "execution_count": null,
   "id": "4541d3f7-cf23-48ef-b476-fa4fb863867d",
   "metadata": {},
   "outputs": [],
   "source": []
  },
  {
   "cell_type": "code",
   "execution_count": null,
   "id": "79c8b4b7-bb9e-4b74-a8d0-0c63bbed8632",
   "metadata": {},
   "outputs": [],
   "source": []
  },
  {
   "cell_type": "code",
   "execution_count": null,
   "id": "506373b7-7f5d-43ae-838c-7acffc895f8c",
   "metadata": {},
   "outputs": [],
   "source": []
  },
  {
   "cell_type": "markdown",
   "id": "e15cca11-efe9-4da8-a35a-d050fbf80c5e",
   "metadata": {
    "tags": []
   },
   "source": [
    "## 整形＆関数化"
   ]
  },
  {
   "cell_type": "code",
   "execution_count": 89,
   "id": "45baba43-a6f0-480a-aa46-0cc3bfd860b9",
   "metadata": {
    "tags": []
   },
   "outputs": [],
   "source": [
    "def flatten_func(list_2dim):\n",
    "    return list(itertools.chain.from_iterable(list_2dim))\n",
    "\n",
    "\n",
    "def bool_CO3_contained_poscar(poscar_nnlist):\n",
    "    df_nnlist = nnlist2df(str(poscar_nnlist))\n",
    "\n",
    "    # df_nnlistでcentral speciesがCのものに絞る\n",
    "    df_nnlist_central_species_C = df_nnlist[df_nnlist['central species'] == 'C']\n",
    "\n",
    "    # さらに，炭酸イオンかどうかを判定するためにに，あるcentral atomのneighboring speciesがCとO３つの計４つでできているか確認したい\n",
    "    # central atomの値を入力すれば，neighboring speciesのリストを返す関数()を作成\n",
    "    def get_neighboring_species_list(central_atom_id, df=df_nnlist_central_species_C):\n",
    "        \"\"\"\n",
    "        To get all central atoms of a cluster(:neighbors), Input a number of cluster center element number(:central atom)\n",
    "\n",
    "        Input: central atom column element In df_nnlist\n",
    "     -> Output: All neighboring atom column element that Input(:elemnt) match central atom column element\n",
    "\n",
    "        param1: Input: central atom column element In df_nnlist\n",
    "        \"\"\"\n",
    "        # 左側の列から対応する行を選択し、右側の数値を取得\n",
    "        # result = df_nnlist[df_nnlist['central atom'] == input_value]['neighboring atom'].values\n",
    "        neighboring_species_list = df[df['central atom'] == central_atom_id]['neighboring species'].tolist()\n",
    "        return neighboring_species_list\n",
    "\n",
    "    def match_num_C_O_3(central_atom_id):\n",
    "        # 原子団の要素数は，Cが1つ，Oが3つの計4つかどうかcheck\n",
    "        if len(get_neighboring_species_list(central_atom_id)) == 4:\n",
    "            # 原子団の要素にCが1つだけ含まれているかどうかcheck\n",
    "            if get_neighboring_species_list(central_atom_id).count('C') == 1:\n",
    "                # 原子団の要素にOがちょうど3つ含まれているかどうかcheck\n",
    "                if get_neighboring_species_list(central_atom_id).count('O') == 3:\n",
    "                    return True\n",
    "            else:\n",
    "                return False\n",
    "        else:\n",
    "            return False\n",
    "    \n",
    "    # df_nnlist_central_species_Cに対し，CO3がどうかを確認し，CO3である原子のid一覧を取得\n",
    "    # まず，中心元素がCのid一覧(central atomの値の一覧)を取得\n",
    "    central_species_C_id_list = df_nnlist_central_species_C['central atom'].unique()\n",
    "    # その中で，match_num_C_O_3()を用いて，過不足なくCO3だけを含むものに絞る\n",
    "    num_matched_central_species_C_id_list = [i for i in central_species_C_id_list if match_num_C_O_3(i)]\n",
    "    \n",
    "    \n",
    "    def rm_duplicated_central_species_C_id(central_species_C_list=num_matched_central_species_C_id_list):\n",
    "        def get_neighboring_atom_id_list(central_atom_id, df=df_nnlist_central_species_C):\n",
    "            \"\"\"\n",
    "            To get all central atoms of a cluster(:neighbors), Input a number of cluster center element number(:central atom)\n",
    "\n",
    "            Input: central atom column element In df_nnlist\n",
    "         -> Output: All neighboring atom column element that Input(:elemnt) match central atom column element\n",
    "\n",
    "            param1: Input: central atom column element In df_nnlist\n",
    "            \"\"\"\n",
    "            # 左側の列から対応する行を選択し、右側の数値を取得\n",
    "            # result = df_nnlist[df_nnlist['central atom'] == input_value]['neighboring atom'].values\n",
    "            neighboring_atom_id_list = df[df['central atom'] == central_atom_id]['neighboring atom'].tolist()\n",
    "            return neighboring_atom_id_list\n",
    "\n",
    "        # 中心がC，その周りにOが3つ存在する原子のid一覧をリスト化\n",
    "        species_id_list = flatten_func(list(map(get_neighboring_atom_id_list, central_species_C_list)))\n",
    "        # 直上のspecies_id_listの重複削除してリスト化\n",
    "        set_species_id_list = list(set(species_id_list))\n",
    "        # species_id_listの要素から，set_species_id_listの要素を削除 -> species_id_listにはCO3ではない原子のリストが入る\n",
    "        for num in set_species_id_list:\n",
    "            species_id_list.remove(num)\n",
    "\n",
    "        # central_atom_idをkey，そのneighboring atom idをvalueにして，CO3が塊まった形でデータ保持する\n",
    "        central_species_C_dict = {}\n",
    "        for i in central_species_C_list:    \n",
    "            central_species_C_dict[i] = get_neighboring_atom_id_list(i)\n",
    "\n",
    "        # species_id_listにはCO3ではない原子のリストが入っている\n",
    "        # CO3でない原子のidを含むCO3の塊はFalse, それ以外のCO3はTureを返し，リスト化\n",
    "        CO3_filter_list = []\n",
    "        for duplicated_num in species_id_list:\n",
    "            CO3_filter_list.append([not (duplicated_num in value_list) for value_list in central_species_C_dict.values()])\n",
    "\n",
    "        # 2重リストになっているCO3_filter_listを要素ごとに論理積（ex). [[True, False, True], [False, True, Ture]] -> [False, False, True]）\n",
    "        CO3_filter = [min(t) for t in zip(*CO3_filter_list)]\n",
    "        # match_C_O_3で絞ったcentral_species_C_listから，さらに重複してCO3になっているものを除去（ex). C2O6）\n",
    "        CO3_matched_central_species_C_list = np.array(list(central_species_C_dict.keys()))[CO3_filter]\n",
    "\n",
    "    return True if len(CO3_matched_central_species_C_list) > 0 else False"
   ]
  },
  {
   "cell_type": "code",
   "execution_count": 90,
   "id": "6dcc8c70-24aa-41a7-990a-ab87ea56b096",
   "metadata": {
    "tags": []
   },
   "outputs": [
    {
     "data": {
      "text/plain": [
       "True"
      ]
     },
     "execution_count": 90,
     "metadata": {},
     "output_type": "execute_result"
    }
   ],
   "source": [
    "bool_CO3_contained_poscar('POSCAR.nnlist')"
   ]
  },
  {
   "cell_type": "code",
   "execution_count": null,
   "id": "6837d0b1-3526-4d01-9b90-0394b4a5535e",
   "metadata": {},
   "outputs": [],
   "source": []
  },
  {
   "cell_type": "code",
   "execution_count": 168,
   "id": "5f0b4e11-a69c-4e05-978a-e54d5472d288",
   "metadata": {
    "tags": []
   },
   "outputs": [],
   "source": [
    "def bool_CO3_contained_poscar(poscar_nnlist):\n",
    "    df_nnlist = nnlist2df(str(poscar_nnlist))\n",
    "\n",
    "    # df_nnlistでcentral speciesがCのものに絞る\n",
    "    df_nnlist_central_species_C = df_nnlist[df_nnlist['central species'] == 'C']\n",
    "\n",
    "    # さらに，炭酸イオンかどうかを判定するためにに，あるcentral atomのneighboring speciesがCとO３つの計４つでできているか確認したい\n",
    "    # central atomの値を入力すれば，neighboring speciesのリストを返す関数()を作成\n",
    "    def get_neighboring_species_list(central_atom_id, df=df_nnlist_central_species_C):\n",
    "        \"\"\"\n",
    "        To get all central atoms of a cluster(:neighbors), Input a number of cluster center element number(:central atom)\n",
    "\n",
    "        Input: central atom column element In df_nnlist\n",
    "     -> Output: All neighboring atom column element that Input(:elemnt) match central atom column element\n",
    "\n",
    "        param1: Input: central atom column element In df_nnlist\n",
    "        \"\"\"\n",
    "        # 左側の列から対応する行を選択し、右側の数値を取得\n",
    "        # result = df_nnlist[df_nnlist['central atom'] == input_value]['neighboring atom'].values\n",
    "        neighboring_species_list = df[df['central atom'] == central_atom_id]['neighboring species'].tolist()\n",
    "        return neighboring_species_list\n",
    "\n",
    "    def match_num_C_O_3(central_atom_id):\n",
    "        # 原子団の要素数は，Cが1つ，Oが3つの計4つかどうかcheck\n",
    "        if len(get_neighboring_species_list(central_atom_id)) == 4:\n",
    "            # 原子団の要素にCが1つだけ含まれているかどうかcheck\n",
    "            if get_neighboring_species_list(central_atom_id).count('C') == 1:\n",
    "                # 原子団の要素にOがちょうど3つ含まれているかどうかcheck\n",
    "                if get_neighboring_species_list(central_atom_id).count('O') == 3:\n",
    "                    return True\n",
    "            else:\n",
    "                return False\n",
    "        else:\n",
    "            return False\n",
    "    \n",
    "    # df_nnlist_central_species_Cに対し，CO3がどうかを確認し，CO3である原子のid一覧を取得\n",
    "    # まず，中心元素がCのid一覧(central atomの値の一覧)を取得\n",
    "    central_species_C_id_list = df_nnlist_central_species_C['central atom'].unique()\n",
    "    # その中で，match_num_C_O_3()を用いて，過不足なくCO3だけを含むものに絞る\n",
    "    num_matched_central_species_C_id_list = [i for i in central_species_C_id_list if match_num_C_O_3(i)]\n",
    "    \n",
    "    \n",
    "    def rm_duplicated_central_species_C_id(central_species_C_list=num_matched_central_species_C_id_list):\n",
    "        def get_neighboring_atom_id_list(central_atom_id, df=df_nnlist_central_species_C):\n",
    "            \"\"\"\n",
    "            To get all central atoms of a cluster(:neighbors), Input a number of cluster center element number(:central atom)\n",
    "\n",
    "            Input: central atom column element In df_nnlist\n",
    "         -> Output: All neighboring atom column element that Input(:elemnt) match central atom column element\n",
    "\n",
    "            param1: Input: central atom column element In df_nnlist\n",
    "            \"\"\"\n",
    "            # 左側の列から対応する行を選択し、右側の数値を取得\n",
    "            # result = df_nnlist[df_nnlist['central atom'] == input_value]['neighboring atom'].values\n",
    "            neighboring_atom_id_list = df[df['central atom'] == central_atom_id]['neighboring atom'].tolist()\n",
    "            return neighboring_atom_id_list\n",
    "\n",
    "        # 中心がC，その周りにOが3つ存在する原子のid一覧をリスト化\n",
    "        species_id_list = flatten_func(list(map(get_neighboring_atom_id_list, num_matched_central_species_C_id_list)))\n",
    "        print(f\"species_id_list: {species_id_list}\")\n",
    "        # 直上のspecies_id_listの重複削除してリスト化\n",
    "        set_species_id_list = list(set(species_id_list))\n",
    "        print(f\"set_species_id_list: {set_species_id_list}\")\n",
    "        # species_id_listの要素から，set_species_id_listの要素を削除 -> species_id_listにはCO3ではない原子のリストが入る\n",
    "        for num in set_species_id_list:\n",
    "            species_id_list.remove(num)\n",
    "        ###### TEST #####\n",
    "        species_id_list.append(5)\n",
    "        species_id_list.append(6)\n",
    "        ###### TEST #####\n",
    "        print(f\"species_id_list: {species_id_list}\")\n",
    "        # species_id_listの要素数が0 -> Oの重複抽出なし -> すべてCO3の炭酸イオン（：C2O6でない）\n",
    "        if len(species_id_list) == 0:\n",
    "            return True\n",
    "        else:\n",
    "            # central_atom_idをkey，そのneighboring atom idをvalueにして，CO3が塊まった形でデータ保持する\n",
    "            central_species_C_dict = {}\n",
    "            for i in central_species_C_list:    \n",
    "                central_species_C_dict[i] = get_neighboring_atom_id_list(i)\n",
    "            print(f\"central_species_C_dict: {central_species_C_dict}\")\n",
    "            # species_id_listにはCO3ではない原子のリストが入っている\n",
    "            # CO3でない原子のidを含むCO3の塊はFalse, それ以外のCO3はTureを返し，リスト化\n",
    "            CO3_filter_list = []\n",
    "            for duplicated_num in species_id_list:\n",
    "                print(f\"duplicated_num: {duplicated_num}\")\n",
    "                CO3_filter_list.append([not (duplicated_num in value_list) for value_list in central_species_C_dict.values()])\n",
    "            print(f\"CO3_filter_list: {CO3_filter_list}\")\n",
    "            # 2重リストになっているCO3_filter_listを要素ごとに論理積（ex). [[True, False, True], [False, True, Ture]] -> [False, False, True]）\n",
    "            CO3_filter = [min(t) for t in zip(*CO3_filter_list)]\n",
    "            # match_C_O_3で絞ったcentral_species_C_listから，さらに重複してCO3になっているものを除去（ex). C2O6）\n",
    "            CO3_matched_central_species_C_list = np.array(list(central_species_C_dict.keys()))[CO3_filter]\n",
    "\n",
    "            return True if len(CO3_matched_central_species_C_list) > 0 else False\n",
    "\n",
    "    return rm_duplicated_central_species_C_id()"
   ]
  },
  {
   "cell_type": "code",
   "execution_count": 169,
   "id": "752a9b49-d0f0-4223-87ab-6ee43513371d",
   "metadata": {
    "tags": []
   },
   "outputs": [
    {
     "name": "stdout",
     "output_type": "stream",
     "text": [
      "species_id_list: [1, 5, 7, 16, 2, 6, 8, 15]\n",
      "set_species_id_list: [1, 2, 5, 6, 7, 8, 15, 16]\n",
      "species_id_list: [5, 6]\n",
      "central_species_C_dict: {1: [1, 5, 7, 16], 2: [2, 6, 8, 15]}\n",
      "duplicated_num: 5\n",
      "duplicated_num: 6\n",
      "CO3_filter_list: [[False, True], [True, False]]\n"
     ]
    },
    {
     "data": {
      "text/plain": [
       "False"
      ]
     },
     "execution_count": 169,
     "metadata": {},
     "output_type": "execute_result"
    }
   ],
   "source": [
    "bool_CO3_contained_poscar('POSCAR.nnlist')"
   ]
  },
  {
   "cell_type": "code",
   "execution_count": 163,
   "id": "d6a38b0c-0508-404a-9758-5d51d116ccd2",
   "metadata": {
    "tags": []
   },
   "outputs": [],
   "source": [
    "for i in []:\n",
    "    print(i)"
   ]
  },
  {
   "cell_type": "code",
   "execution_count": null,
   "id": "099a6e2d-b441-4aa4-bc68-977a09f4b5d5",
   "metadata": {},
   "outputs": [],
   "source": [
    "for duplicated_num in species_id_list:\n",
    "        print(f\"duplicated_num: {duplicated_num}\")\n",
    "        CO3_filter_list.append([not (dupli"
   ]
  },
  {
   "cell_type": "code",
   "execution_count": 156,
   "id": "9affb44a-3cd6-4572-9de2-cf4be388dbc8",
   "metadata": {
    "tags": []
   },
   "outputs": [
    {
     "data": {
      "text/plain": [
       "False"
      ]
     },
     "execution_count": 156,
     "metadata": {},
     "output_type": "execute_result"
    }
   ],
   "source": [
    "[] in [1, 5]"
   ]
  },
  {
   "cell_type": "code",
   "execution_count": 120,
   "id": "6ddf8355-978a-4341-ac21-1731d77c8653",
   "metadata": {
    "tags": []
   },
   "outputs": [],
   "source": [
    "df_nnlist = nnlist2df(str('POSCAR.nnlist'))"
   ]
  },
  {
   "cell_type": "code",
   "execution_count": 125,
   "id": "893823ae-3802-438a-be7c-4a86b17fdfde",
   "metadata": {
    "tags": []
   },
   "outputs": [
    {
     "data": {
      "text/plain": [
       "0     False\n",
       "1     False\n",
       "2     False\n",
       "3     False\n",
       "4     False\n",
       "5     False\n",
       "6     False\n",
       "7     False\n",
       "8     False\n",
       "9     False\n",
       "10    False\n",
       "11    False\n",
       "12    False\n",
       "13    False\n",
       "14    False\n",
       "15    False\n",
       "16    False\n",
       "17    False\n",
       "18    False\n",
       "19    False\n",
       "20    False\n",
       "21    False\n",
       "22    False\n",
       "23    False\n",
       "24    False\n",
       "25    False\n",
       "26    False\n",
       "27    False\n",
       "28    False\n",
       "29    False\n",
       "30    False\n",
       "31    False\n",
       "32    False\n",
       "33    False\n",
       "34    False\n",
       "35    False\n",
       "36    False\n",
       "37    False\n",
       "Name: central atom, dtype: bool"
      ]
     },
     "execution_count": 125,
     "metadata": {},
     "output_type": "execute_result"
    }
   ],
   "source": [
    "df_nnlist['central atom'] == 'C'"
   ]
  },
  {
   "cell_type": "code",
   "execution_count": 128,
   "id": "48160a48-09a7-4642-a00c-036363fcf45f",
   "metadata": {
    "tags": []
   },
   "outputs": [],
   "source": [
    "df_nnlist_central_species_C = df_nnlist[df_nnlist['central species'] == 'C']"
   ]
  },
  {
   "cell_type": "code",
   "execution_count": 131,
   "id": "3331ea2b-0de2-4ff7-b878-2c9323529a1d",
   "metadata": {
    "tags": []
   },
   "outputs": [
    {
     "data": {
      "text/plain": [
       "array([1, 2])"
      ]
     },
     "execution_count": 131,
     "metadata": {},
     "output_type": "execute_result"
    }
   ],
   "source": [
    "df_nnlist_central_species_C['central atom'].unique()"
   ]
  },
  {
   "cell_type": "code",
   "execution_count": null,
   "id": "4eed344a-18c5-4ba5-9119-7992a033b211",
   "metadata": {},
   "outputs": [],
   "source": []
  },
  {
   "cell_type": "code",
   "execution_count": 140,
   "id": "407aebeb-c0bc-453a-b93d-1bcc9c29cc82",
   "metadata": {
    "tags": []
   },
   "outputs": [],
   "source": []
  }
 ],
 "metadata": {
  "kernelspec": {
   "display_name": "Python 3 (ipykernel)",
   "language": "python",
   "name": "python3"
  },
  "language_info": {
   "codemirror_mode": {
    "name": "ipython",
    "version": 3
   },
   "file_extension": ".py",
   "mimetype": "text/x-python",
   "name": "python",
   "nbconvert_exporter": "python",
   "pygments_lexer": "ipython3",
   "version": "3.10.12"
  }
 },
 "nbformat": 4,
 "nbformat_minor": 5
}

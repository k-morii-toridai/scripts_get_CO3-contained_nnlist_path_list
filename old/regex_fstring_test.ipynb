{
 "cells": [
  {
   "cell_type": "code",
   "execution_count": 13,
   "id": "c68ea06f-c5ed-4435-9ef0-536a36ba503c",
   "metadata": {
    "tags": []
   },
   "outputs": [],
   "source": [
    "import re\n",
    "def folder_nnlist_1_7_filter(path):\n",
    "    # pattern = 'nnlist_.+$'  # 正規表現（：末尾が'nnlist_任意の文字が１個以上'で終わる）\n",
    "    # pattern = 'nnlist_1.7$'  # 正規表現（：末尾が'nnlist_任意の文字が１個以上'で終わる）\n",
    "    nnlist_dist_num = 'nnlist_' + '1.7'\n",
    "    pattern = f'{nnlist_dist_num}$'  # 正規表現（：末尾が'nnlist_任意の文字が１個以上'で終わる）\n",
    "    string = str(path)\n",
    "    return bool(re.search(pattern, string))"
   ]
  },
  {
   "cell_type": "code",
   "execution_count": 14,
   "id": "c5d2bb9e-f3cd-4e96-97e2-609ee515a645",
   "metadata": {
    "tags": []
   },
   "outputs": [
    {
     "data": {
      "text/plain": [
       "False"
      ]
     },
     "execution_count": 14,
     "metadata": {},
     "output_type": "execute_result"
    }
   ],
   "source": [
    "folder_nnlist_1_7_filter('nnlist_1.6')"
   ]
  },
  {
   "cell_type": "code",
   "execution_count": null,
   "id": "e4be9ccd-c66e-424b-a96b-0223df97ebfb",
   "metadata": {},
   "outputs": [],
   "source": []
  }
 ],
 "metadata": {
  "kernelspec": {
   "display_name": "Python 3 (ipykernel)",
   "language": "python",
   "name": "python3"
  },
  "language_info": {
   "codemirror_mode": {
    "name": "ipython",
    "version": 3
   },
   "file_extension": ".py",
   "mimetype": "text/x-python",
   "name": "python",
   "nbconvert_exporter": "python",
   "pygments_lexer": "ipython3",
   "version": "3.10.12"
  }
 },
 "nbformat": 4,
 "nbformat_minor": 5
}
